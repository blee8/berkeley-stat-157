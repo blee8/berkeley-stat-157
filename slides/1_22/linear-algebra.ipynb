{
  "nbformat": 4,
  "nbformat_minor": 0,
  "metadata": {
    "celltoolbar": "Slideshow",
    "kernelspec": {
      "display_name": "Python 3",
      "language": "python",
      "name": "python3"
    },
    "language_info": {
      "codemirror_mode": {
        "name": "ipython",
        "version": 3
      },
      "file_extension": ".py",
      "mimetype": "text/x-python",
      "name": "python",
      "nbconvert_exporter": "python",
      "pygments_lexer": "ipython3",
      "version": "3.7.0"
    },
    "colab": {
      "name": "linear-algebra.ipynb",
      "provenance": []
    }
  },
  "cells": [
    {
      "cell_type": "markdown",
      "metadata": {
        "id": "On9IGLs2g9CQ",
        "colab_type": "text"
      },
      "source": [
        "# Linear algebra"
      ]
    },
    {
      "cell_type": "code",
      "metadata": {
        "ExecuteTime": {
          "end_time": "2019-01-22T06:59:37.697347Z",
          "start_time": "2019-01-22T06:59:36.344203Z"
        },
        "id": "sdyH4yLhg9CR",
        "colab_type": "code",
        "colab": {}
      },
      "source": [
        "from mxnet import nd"
      ],
      "execution_count": null,
      "outputs": []
    },
    {
      "cell_type": "markdown",
      "metadata": {
        "id": "bbmPZBdtg9CT",
        "colab_type": "text"
      },
      "source": [
        "In MXNet scalars are NDArrays with just one element. "
      ]
    },
    {
      "cell_type": "code",
      "metadata": {
        "ExecuteTime": {
          "end_time": "2019-01-22T06:59:37.723391Z",
          "start_time": "2019-01-22T06:59:37.701297Z"
        },
        "id": "ersdg-TSg9CT",
        "colab_type": "code",
        "colab": {},
        "outputId": "7b34bc45-7564-4800-e73d-0b3492b50114"
      },
      "source": [
        "x = nd.array([3.0, 4.0])\n",
        "y = nd.array([2.0, 1.0])\n",
        "\n",
        "print('x + y = ', x + y)\n",
        "print('x * y = ', x * y)\n",
        "print('x / y = ', x / y)\n",
        "print('x ** y = ', nd.power(x,y))"
      ],
      "execution_count": null,
      "outputs": [
        {
          "output_type": "stream",
          "text": [
            "x + y =  \n",
            "[5. 5.]\n",
            "<NDArray 2 @cpu(0)>\n",
            "x * y =  \n",
            "[6. 4.]\n",
            "<NDArray 2 @cpu(0)>\n",
            "x / y =  \n",
            "[1.5 4. ]\n",
            "<NDArray 2 @cpu(0)>\n",
            "x ** y =  \n",
            "[9. 4.]\n",
            "<NDArray 2 @cpu(0)>\n"
          ],
          "name": "stdout"
        }
      ]
    },
    {
      "cell_type": "markdown",
      "metadata": {
        "id": "EOedXt4_g9CW",
        "colab_type": "text"
      },
      "source": [
        "We can convert any NDArray to a Python float by calling its `asscalar` method. Note that this is typically a bad idea. **While you are doing this, NDArray has to stop doing anything else in order to hand the result and the process control back to Python.** And unfortunately isn't very good at doing things in parallel. "
      ]
    },
    {
      "cell_type": "code",
      "metadata": {
        "ExecuteTime": {
          "end_time": "2019-01-22T06:59:37.743361Z",
          "start_time": "2019-01-22T06:59:37.728689Z"
        },
        "id": "YdNqUuCjg9CW",
        "colab_type": "code",
        "colab": {},
        "outputId": "633fe874-6b2c-47da-a918-c34139a07e13"
      },
      "source": [
        "print(x)\n",
        "print(x.asscalar())\n",
        "print(foo)"
      ],
      "execution_count": null,
      "outputs": [
        {
          "output_type": "stream",
          "text": [
            "\n",
            "[3.]\n",
            "<NDArray 1 @cpu(0)>\n",
            "3.0\n"
          ],
          "name": "stdout"
        }
      ]
    },
    {
      "cell_type": "markdown",
      "metadata": {
        "id": "Tq2ckJFog9CY",
        "colab_type": "text"
      },
      "source": [
        "## Vectors\n",
        "\n",
        "Vectors are e.g. ``[1.0,3.0,4.0,2.0]``. We use 1D NDArrays."
      ]
    },
    {
      "cell_type": "code",
      "metadata": {
        "ExecuteTime": {
          "end_time": "2019-01-22T06:59:37.759425Z",
          "start_time": "2019-01-22T06:59:37.748844Z"
        },
        "id": "UDl6klLfg9CY",
        "colab_type": "code",
        "colab": {},
        "outputId": "28b66d8f-7845-4643-8cb1-3ce1e007b5c5"
      },
      "source": [
        "x = nd.arange(5)\n",
        "print('x = ', x) "
      ],
      "execution_count": null,
      "outputs": [
        {
          "output_type": "stream",
          "text": [
            "x =  \n",
            "[0. 1. 2. 3. 4.]\n",
            "<NDArray 5 @cpu(0)>\n"
          ],
          "name": "stdout"
        }
      ]
    },
    {
      "cell_type": "code",
      "metadata": {
        "ExecuteTime": {
          "end_time": "2019-01-22T06:59:37.790373Z",
          "start_time": "2019-01-22T06:59:37.765817Z"
        },
        "id": "69bYcnvhg9Ca",
        "colab_type": "code",
        "colab": {},
        "outputId": "0844a3b9-273f-492b-b791-c0d8aa30f849"
      },
      "source": [
        "x[3]"
      ],
      "execution_count": null,
      "outputs": [
        {
          "output_type": "execute_result",
          "data": {
            "text/plain": [
              "\n",
              "[3.]\n",
              "<NDArray 1 @cpu(0)>"
            ]
          },
          "metadata": {
            "tags": []
          },
          "execution_count": 5
        }
      ]
    },
    {
      "cell_type": "markdown",
      "metadata": {
        "id": "cqem935Zg9Cd",
        "colab_type": "text"
      },
      "source": [
        "## Length, dimensionality and shape\n",
        "\n",
        "The length of a vector is commonly called its $dimension$. As with an ordinary Python array, we can access the length of an NDArray\n",
        "by calling Python's in-built ``len()`` function.\n",
        "\n",
        "We can also access a vector's length via its `.shape` attribute.\n",
        "The shape is a tuple that lists the dimensionality along each of its axes."
      ]
    },
    {
      "cell_type": "code",
      "metadata": {
        "ExecuteTime": {
          "end_time": "2019-01-22T06:59:37.799655Z",
          "start_time": "2019-01-22T06:59:37.792531Z"
        },
        "id": "Gkr-Ch4Hg9Ce",
        "colab_type": "code",
        "colab": {},
        "outputId": "8e8fe26c-92ff-4e23-f32c-435dbc3611c9"
      },
      "source": [
        "x.shape"
      ],
      "execution_count": null,
      "outputs": [
        {
          "output_type": "execute_result",
          "data": {
            "text/plain": [
              "(5,)"
            ]
          },
          "metadata": {
            "tags": []
          },
          "execution_count": 6
        }
      ]
    },
    {
      "cell_type": "markdown",
      "metadata": {
        "id": "jEzpqxuFg9Cg",
        "colab_type": "text"
      },
      "source": [
        "The word dimension is overloaded between number of axes and number of elements. **To avoid confusion, when we say *2D* array or *3D* array, we mean an array with 2 or 3 axes respectively. But if we say *$n$-dimensional* vector, we mean a vector of length $n$.**"
      ]
    },
    {
      "cell_type": "code",
      "metadata": {
        "ExecuteTime": {
          "end_time": "2019-01-22T06:59:37.819085Z",
          "start_time": "2019-01-22T06:59:37.806667Z"
        },
        "id": "Nm7iff_hg9Cg",
        "colab_type": "code",
        "colab": {},
        "outputId": "fd2e2bfc-ee3b-42b0-e41d-323ea7c9316f"
      },
      "source": [
        "a = 2\n",
        "x = nd.array([1,2,3])\n",
        "y = nd.array([10,20,30])\n",
        "print(a * x)\n",
        "print(a * x + y)"
      ],
      "execution_count": null,
      "outputs": [
        {
          "output_type": "stream",
          "text": [
            "\n",
            "[2. 4. 6.]\n",
            "<NDArray 3 @cpu(0)>\n",
            "\n",
            "[12. 24. 36.]\n",
            "<NDArray 3 @cpu(0)>\n"
          ],
          "name": "stdout"
        }
      ]
    },
    {
      "cell_type": "markdown",
      "metadata": {
        "id": "ckqOi9tDg9Ci",
        "colab_type": "text"
      },
      "source": [
        "## Matrices\n",
        "\n",
        "Just as vectors generalize scalars from order $0$ to order $1$,\n",
        "matrices generalize vectors from $1D$ to $2D$.\n",
        "Matrices, which we'll typically denote with capital letters ($A$, $B$, $C$),\n",
        "are represented in code as arrays with 2 axes.\n",
        "Visually, we can draw a matrix as a table,\n",
        "where each entry $a_{ij}$ belongs to the $i$-th row and $j$-th column.\n",
        "\n",
        "\n",
        "$$A=\\begin{pmatrix}\n",
        " a_{11} & a_{12} & \\cdots & a_{1m} \\\\\n",
        " a_{21} & a_{22} & \\cdots & a_{2m} \\\\\n",
        "\\vdots & \\vdots & \\ddots & \\vdots \\\\\n",
        " a_{n1} & a_{n2} & \\cdots & a_{nm} \\\\\n",
        "\\end{pmatrix}$$"
      ]
    },
    {
      "cell_type": "code",
      "metadata": {
        "ExecuteTime": {
          "end_time": "2019-01-22T06:59:37.845855Z",
          "start_time": "2019-01-22T06:59:37.832911Z"
        },
        "id": "qFQYngACg9Ci",
        "colab_type": "code",
        "colab": {},
        "outputId": "ab95dd92-f007-44b6-e8bd-175080ddc7f9"
      },
      "source": [
        "print(nd.arange(10))\n",
        "A = nd.arange(20).reshape((2,10))\n",
        "print(A)"
      ],
      "execution_count": null,
      "outputs": [
        {
          "output_type": "stream",
          "text": [
            "\n",
            "[0. 1. 2. 3. 4. 5. 6. 7. 8. 9.]\n",
            "<NDArray 10 @cpu(0)>\n",
            "\n",
            "[[ 0.  1.  2.  3.  4.  5.  6.  7.  8.  9.]\n",
            " [10. 11. 12. 13. 14. 15. 16. 17. 18. 19.]]\n",
            "<NDArray 2x10 @cpu(0)>\n"
          ],
          "name": "stdout"
        }
      ]
    },
    {
      "cell_type": "markdown",
      "metadata": {
        "id": "Xb04Ubgeg9Ck",
        "colab_type": "text"
      },
      "source": [
        "We can access elements $a_{ij}$ by specifying row $i$ and column $j$. Leaving them blank selects via `:` takes all ements in the respective dimension. \n",
        "\n",
        "We can transpose the matrix through `T`. That is, if $B = A^T$, then $b_{ij} = a_{ji}$ for any $i$ and $j$."
      ]
    },
    {
      "cell_type": "code",
      "metadata": {
        "ExecuteTime": {
          "end_time": "2019-01-22T06:59:37.858642Z",
          "start_time": "2019-01-22T06:59:37.849556Z"
        },
        "id": "q5jOVZfKg9Ck",
        "colab_type": "code",
        "colab": {},
        "outputId": "ae04801c-7bf7-4e6a-ff5a-69c7d8f7df96"
      },
      "source": [
        "print(A.T)"
      ],
      "execution_count": null,
      "outputs": [
        {
          "output_type": "stream",
          "text": [
            "\n",
            "[[ 0.  4.  8. 12. 16.]\n",
            " [ 1.  5.  9. 13. 17.]\n",
            " [ 2.  6. 10. 14. 18.]\n",
            " [ 3.  7. 11. 15. 19.]]\n",
            "<NDArray 4x5 @cpu(0)>\n"
          ],
          "name": "stdout"
        }
      ]
    },
    {
      "cell_type": "markdown",
      "metadata": {
        "id": "OJYDQpfNg9Cm",
        "colab_type": "text"
      },
      "source": [
        "## Tensors\n",
        "\n",
        "Just as vectors generalize scalars, and matrices generalize vectors, we can increase the number of axes. When working with images the axes correspond to the height, width, and the three (RGB) color channels."
      ]
    },
    {
      "cell_type": "code",
      "metadata": {
        "ExecuteTime": {
          "end_time": "2019-01-22T06:59:37.880386Z",
          "start_time": "2019-01-22T06:59:37.869406Z"
        },
        "id": "R7N6bu4Fg9Cm",
        "colab_type": "code",
        "colab": {},
        "outputId": "baf1dd6e-1b8a-453b-d108-c67b94983d68"
      },
      "source": [
        "X = nd.arange(24).reshape((2, 3, 4))\n",
        "print('X.shape =', X.shape)\n",
        "print('X =', X)"
      ],
      "execution_count": null,
      "outputs": [
        {
          "output_type": "stream",
          "text": [
            "X.shape = (2, 3, 4)\n",
            "X = \n",
            "[[[ 0.  1.  2.  3.]\n",
            "  [ 4.  5.  6.  7.]\n",
            "  [ 8.  9. 10. 11.]]\n",
            "\n",
            " [[12. 13. 14. 15.]\n",
            "  [16. 17. 18. 19.]\n",
            "  [20. 21. 22. 23.]]]\n",
            "<NDArray 2x3x4 @cpu(0)>\n"
          ],
          "name": "stdout"
        }
      ]
    },
    {
      "cell_type": "markdown",
      "metadata": {
        "id": "C-frfj1cg9Co",
        "colab_type": "text"
      },
      "source": [
        "## Basic properties of tensor arithmetic\n",
        "\n",
        "Given two tensors $X$ and $Y$ with the same shape,\n",
        "$\\alpha X + Y$ has the same shape\n",
        "(numerical mathematicians call this the AXPY operation)."
      ]
    },
    {
      "cell_type": "code",
      "metadata": {
        "ExecuteTime": {
          "end_time": "2019-01-22T06:59:37.896390Z",
          "start_time": "2019-01-22T06:59:37.883657Z"
        },
        "id": "cMtXlQ6Ig9Cp",
        "colab_type": "code",
        "colab": {},
        "outputId": "c73d1af3-9b11-4f2f-be52-0810bb8fb738"
      },
      "source": [
        "a = 2\n",
        "x = nd.ones(3)\n",
        "y = nd.zeros(3)\n",
        "print(x.shape)\n",
        "print(y.shape)\n",
        "print((a * x).shape)\n",
        "print((a * x + y).shape)"
      ],
      "execution_count": null,
      "outputs": [
        {
          "output_type": "stream",
          "text": [
            "(3,)\n",
            "(3,)\n",
            "(3,)\n",
            "(3,)\n"
          ],
          "name": "stdout"
        }
      ]
    },
    {
      "cell_type": "markdown",
      "metadata": {
        "id": "QDSFtdHKg9Cq",
        "colab_type": "text"
      },
      "source": [
        "## Sums and means\n",
        "\n",
        "In math we express sums using the $\\sum$ symbol.\n",
        "To express the sum of the elements in a vector $\\mathbf{u}$ of length $d$,\n",
        "we can write $\\sum_{i=1}^d u_i$. In code, we can just call ``nd.sum()``."
      ]
    },
    {
      "cell_type": "code",
      "metadata": {
        "ExecuteTime": {
          "end_time": "2019-01-22T06:59:37.911193Z",
          "start_time": "2019-01-22T06:59:37.899472Z"
        },
        "id": "CjRe1uung9Cr",
        "colab_type": "code",
        "colab": {},
        "outputId": "e5618973-5627-4f5a-96cd-c9708278d819"
      },
      "source": [
        "print(x)\n",
        "print(nd.sum(x))"
      ],
      "execution_count": null,
      "outputs": [
        {
          "output_type": "stream",
          "text": [
            "\n",
            "[1. 1. 1.]\n",
            "<NDArray 3 @cpu(0)>\n",
            "\n",
            "[3.]\n",
            "<NDArray 1 @cpu(0)>\n"
          ],
          "name": "stdout"
        }
      ]
    },
    {
      "cell_type": "markdown",
      "metadata": {
        "id": "z346fIGAg9Cs",
        "colab_type": "text"
      },
      "source": [
        "We can similarly express sums over the elements of tensors of arbitrary shape. For example, the sum of the elements of an $m \\times n$ matrix $A$ could be written $\\sum_{i=1}^{m} \\sum_{j=1}^{n} a_{ij}$."
      ]
    },
    {
      "cell_type": "code",
      "metadata": {
        "ExecuteTime": {
          "end_time": "2019-01-22T06:59:37.922313Z",
          "start_time": "2019-01-22T06:59:37.914364Z"
        },
        "id": "1vmkCiKdg9Ct",
        "colab_type": "code",
        "colab": {},
        "outputId": "3b45a73b-734c-40a4-a2bb-7e7a1a10d67a"
      },
      "source": [
        "print(A)\n",
        "print(nd.sum(A,0))"
      ],
      "execution_count": null,
      "outputs": [
        {
          "output_type": "stream",
          "text": [
            "\n",
            "[[ 0.  1.  2.  3.  4.  5.  6.  7.  8.  9.]\n",
            " [10. 11. 12. 13. 14. 15. 16. 17. 18. 19.]]\n",
            "<NDArray 2x10 @cpu(0)>\n",
            "\n",
            "[10. 12. 14. 16. 18. 20. 22. 24. 26. 28.]\n",
            "<NDArray 10 @cpu(0)>\n"
          ],
          "name": "stdout"
        }
      ]
    },
    {
      "cell_type": "markdown",
      "metadata": {
        "id": "CgJt9Wy6g9Cv",
        "colab_type": "text"
      },
      "source": [
        "A related quantity is the *mean*. \n",
        "We calculate the mean by dividing the sum by the total number of elements. In code this is ``nd.mean()``.\n",
        "\n",
        "$$\\mathrm{mean}(\\mathbf{u}) = \\frac{1}{d} \\sum_{i=1}^{d} u_i \\text{ and }\n",
        "\\mathrm{mean}(A) = \\frac{1}{n \\cdot m} \\sum_{i=1}^{m} \\sum_{j=1}^{n} a_{ij}$$"
      ]
    },
    {
      "cell_type": "code",
      "metadata": {
        "ExecuteTime": {
          "end_time": "2019-01-22T06:59:37.933514Z",
          "start_time": "2019-01-22T06:59:37.925021Z"
        },
        "id": "-yGAaq8rg9Cv",
        "colab_type": "code",
        "colab": {},
        "outputId": "5ecc0fde-c8f4-43cf-f188-8a74593f8760"
      },
      "source": [
        "print(nd.mean(A))\n",
        "print(nd.sum(A) / A.size)"
      ],
      "execution_count": null,
      "outputs": [
        {
          "output_type": "stream",
          "text": [
            "\n",
            "[9.5]\n",
            "<NDArray 1 @cpu(0)>\n",
            "\n",
            "[9.5]\n",
            "<NDArray 1 @cpu(0)>\n"
          ],
          "name": "stdout"
        }
      ]
    },
    {
      "cell_type": "markdown",
      "metadata": {
        "id": "I7vo18Hkg9Cx",
        "colab_type": "text"
      },
      "source": [
        "## Dot products\n",
        "\n",
        "Given two vectors $\\mathbf{u}$ and $\\mathbf{v}$, the dot product $\\mathbf{u}^T \\mathbf{v}$ is a sum over the products of the corresponding elements: $\\mathbf{u}^T \\mathbf{v} = \\sum_{i=1}^{d} u_i \\cdot v_i$."
      ]
    },
    {
      "cell_type": "code",
      "metadata": {
        "ExecuteTime": {
          "end_time": "2019-01-22T06:59:37.947256Z",
          "start_time": "2019-01-22T06:59:37.936840Z"
        },
        "id": "5osqv5sNg9Cx",
        "colab_type": "code",
        "colab": {},
        "outputId": "2544f6f7-e93e-4fcc-d652-81d1e1988574"
      },
      "source": [
        "x = nd.arange(4) +1.0\n",
        "y = nd.ones(4)\n",
        "print(x, y, nd.dot(x, y))"
      ],
      "execution_count": null,
      "outputs": [
        {
          "output_type": "stream",
          "text": [
            "\n",
            "[1. 2. 3. 4.]\n",
            "<NDArray 4 @cpu(0)> \n",
            "[1. 1. 1. 1.]\n",
            "<NDArray 4 @cpu(0)> \n",
            "[10.]\n",
            "<NDArray 1 @cpu(0)>\n"
          ],
          "name": "stdout"
        }
      ]
    },
    {
      "cell_type": "markdown",
      "metadata": {
        "id": "-w7opTMlg9Cz",
        "colab_type": "text"
      },
      "source": [
        "Note that we can express the dot product of two vectors ``nd.dot(u, v)`` equivalently by performing an element-wise multiplication and then a sum:"
      ]
    },
    {
      "cell_type": "code",
      "metadata": {
        "ExecuteTime": {
          "end_time": "2019-01-22T06:59:37.958753Z",
          "start_time": "2019-01-22T06:59:37.950028Z"
        },
        "id": "8zWyq77bg9Cz",
        "colab_type": "code",
        "colab": {},
        "outputId": "5b5068bb-1cb0-4ba8-c9f5-41e4447eac10"
      },
      "source": [
        "nd.sum(x * y)"
      ],
      "execution_count": null,
      "outputs": [
        {
          "output_type": "execute_result",
          "data": {
            "text/plain": [
              "\n",
              "[6.]\n",
              "<NDArray 1 @cpu(0)>"
            ]
          },
          "metadata": {
            "tags": []
          },
          "execution_count": 16
        }
      ]
    },
    {
      "cell_type": "markdown",
      "metadata": {
        "id": "83VceBUYg9C1",
        "colab_type": "text"
      },
      "source": [
        "## Matrix-vector products\n",
        "\n",
        "$$A=\\begin{pmatrix}\n",
        " a_{11} & a_{12} & \\cdots & a_{1m} \\\\\n",
        " a_{21} & a_{22} & \\cdots & a_{2m} \\\\\n",
        "\\vdots & \\vdots & \\ddots & \\vdots \\\\\n",
        " a_{n1} & a_{n2} & \\cdots & a_{nm} \\\\\n",
        "\\end{pmatrix},\\quad\\mathbf{x}=\\begin{pmatrix}\n",
        " x_{1}  \\\\\n",
        " x_{2} \\\\\n",
        "\\vdots\\\\\n",
        " x_{m}\\\\\n",
        "\\end{pmatrix} $$\n",
        "\n",
        "$$A\\mathbf{x}=\n",
        "\\begin{pmatrix}\n",
        "\\cdots & \\mathbf{a}^T_{1} &...  \\\\\n",
        "\\cdots & \\mathbf{a}^T_{2} & \\cdots \\\\\n",
        " & \\vdots &  \\\\\n",
        " \\cdots &\\mathbf{a}^T_n & \\cdots \\\\\n",
        "\\end{pmatrix}\n",
        "\\begin{pmatrix}\n",
        " x_{1}  \\\\\n",
        " x_{2} \\\\\n",
        "\\vdots\\\\\n",
        " x_{m}\\\\\n",
        "\\end{pmatrix}\n",
        "= \\begin{pmatrix}\n",
        " \\mathbf{a}^T_{1} \\mathbf{x}  \\\\\n",
        " \\mathbf{a}^T_{2} \\mathbf{x} \\\\\n",
        "\\vdots\\\\\n",
        " \\mathbf{a}^T_{n} \\mathbf{x}\\\\\n",
        "\\end{pmatrix}\n",
        "$$\n",
        "\n",
        "So you can think of multiplication by a matrix $A\\in \\mathbb{R}^{m \\times n}$ as a transformation that projects vectors from $\\mathbb{R}^{m}$ to $\\mathbb{R}^{n}$.\n"
      ]
    },
    {
      "cell_type": "markdown",
      "metadata": {
        "id": "iYg6-tFIg9C2",
        "colab_type": "text"
      },
      "source": [
        "We can also use matrix-vector products to describe the calculations of each layer in a neural network.\n",
        "Expressing matrix-vector products in code with ``ndarray``, we use the same ``nd.dot()`` function as for dot products. "
      ]
    },
    {
      "cell_type": "code",
      "metadata": {
        "ExecuteTime": {
          "end_time": "2019-01-22T06:59:37.972681Z",
          "start_time": "2019-01-22T06:59:37.961622Z"
        },
        "id": "mP_XulZhg9C2",
        "colab_type": "code",
        "colab": {},
        "outputId": "cee48ef5-43d7-459d-cc8d-b22f52f0d7f8"
      },
      "source": [
        "A = A.reshape((3,4))\n",
        "print(nd.dot(A, x))\n",
        "print(A * x)"
      ],
      "execution_count": null,
      "outputs": [
        {
          "output_type": "stream",
          "text": [
            "\n",
            "[ 20.  60. 100.]\n",
            "<NDArray 3 @cpu(0)>\n",
            "\n",
            "[[ 0.  2.  6. 12.]\n",
            " [ 4. 10. 18. 28.]\n",
            " [ 8. 18. 30. 44.]]\n",
            "<NDArray 3x4 @cpu(0)>\n"
          ],
          "name": "stdout"
        }
      ]
    },
    {
      "cell_type": "markdown",
      "metadata": {
        "id": "QHfX1b2mg9C4",
        "colab_type": "text"
      },
      "source": [
        "## Matrix-matrix multiplication\n",
        "\n",
        "If you've gotten the hang of dot products and matrix-vector multiplication, then matrix-matrix multiplications should be pretty straightforward.\n",
        "\n",
        "Say we have two matrices, $A \\in \\mathbb{R}^{n \\times k}$ and $B \\in \\mathbb{R}^{k \\times m}$:\n",
        "\n",
        "$$A=\\begin{pmatrix}\n",
        " a_{11} & a_{12} & \\cdots & a_{1k} \\\\\n",
        " a_{21} & a_{22} & \\cdots & a_{2k} \\\\\n",
        "\\vdots & \\vdots & \\ddots & \\vdots \\\\\n",
        " a_{n1} & a_{n2} & \\cdots & a_{nk} \\\\\n",
        "\\end{pmatrix},\\quad\n",
        "B=\\begin{pmatrix}\n",
        " b_{11} & b_{12} & \\cdots & b_{1m} \\\\\n",
        " b_{21} & b_{22} & \\cdots & b_{2m} \\\\\n",
        "\\vdots & \\vdots & \\ddots & \\vdots \\\\\n",
        " b_{k1} & b_{k2} & \\cdots & b_{km} \\\\\n",
        "\\end{pmatrix}$$"
      ]
    },
    {
      "cell_type": "markdown",
      "metadata": {
        "id": "qrDQOlfLg9C4",
        "colab_type": "text"
      },
      "source": [
        "$$AB = \\begin{pmatrix}\n",
        "\\cdots & \\mathbf{a}^T_{1} &...  \\\\\n",
        "\\cdots & \\mathbf{a}^T_{2} & \\cdots \\\\\n",
        " & \\vdots &  \\\\\n",
        " \\cdots &\\mathbf{a}^T_n & \\cdots \\\\\n",
        "\\end{pmatrix}\n",
        "\\begin{pmatrix}\n",
        "\\vdots & \\vdots &  & \\vdots \\\\\n",
        " \\mathbf{b}_{1} & \\mathbf{b}_{2} & \\cdots & \\mathbf{b}_{m} \\\\\n",
        " \\vdots & \\vdots &  &\\vdots\\\\\n",
        "\\end{pmatrix}\n",
        "= \\begin{pmatrix}\n",
        "\\mathbf{a}^T_{1} \\mathbf{b}_1 & \\mathbf{a}^T_{1}\\mathbf{b}_2& \\cdots & \\mathbf{a}^T_{1} \\mathbf{b}_m \\\\\n",
        " \\mathbf{a}^T_{2}\\mathbf{b}_1 & \\mathbf{a}^T_{2} \\mathbf{b}_2 & \\cdots & \\mathbf{a}^T_{2} \\mathbf{b}_m \\\\\n",
        " \\vdots & \\vdots & \\ddots &\\vdots\\\\\n",
        "\\mathbf{a}^T_{n} \\mathbf{b}_1 & \\mathbf{a}^T_{n}\\mathbf{b}_2& \\cdots& \\mathbf{a}^T_{n} \\mathbf{b}_m\n",
        "\\end{pmatrix}\n",
        "$$\n",
        "\n",
        "You can think of the matrix-matrix multiplication $AB$ as simply performing $m$ matrix-vector products and stitching the results together."
      ]
    },
    {
      "cell_type": "code",
      "metadata": {
        "ExecuteTime": {
          "end_time": "2019-01-22T06:59:38.003462Z",
          "start_time": "2019-01-22T06:59:37.989098Z"
        },
        "id": "9Yj4Qd9tg9C5",
        "colab_type": "code",
        "colab": {},
        "outputId": "50789ea4-17c3-4db8-b620-e104098fdd5f"
      },
      "source": [
        "B = nd.ones(shape=(4, 3))\n",
        "nd.dot(A, B)"
      ],
      "execution_count": null,
      "outputs": [
        {
          "output_type": "execute_result",
          "data": {
            "text/plain": [
              "\n",
              "[[ 6.  6.  6.]\n",
              " [22. 22. 22.]\n",
              " [38. 38. 38.]\n",
              " [54. 54. 54.]\n",
              " [70. 70. 70.]]\n",
              "<NDArray 5x3 @cpu(0)>"
            ]
          },
          "metadata": {
            "tags": []
          },
          "execution_count": 18
        }
      ]
    },
    {
      "cell_type": "markdown",
      "metadata": {
        "id": "SH6a9F_Qg9C6",
        "colab_type": "text"
      },
      "source": [
        "## Norms\n",
        "\n",
        "All norms must satisfy a handful of properties:\n",
        "\n",
        "1. $\\|\\alpha A\\| = |\\alpha| \\|A\\|$\n",
        "1. $\\|A + B\\| \\leq \\|A\\| + \\|B\\|$\n",
        "1. $\\|A\\| \\geq 0$\n",
        "1. If $\\forall {i,j}, a_{ij} = 0$, then $\\|A\\|=0$\n",
        "\n",
        "To calculate the $\\ell_2$ norm, we can just call ``nd.norm()``."
      ]
    },
    {
      "cell_type": "code",
      "metadata": {
        "ExecuteTime": {
          "end_time": "2019-01-22T06:59:38.023692Z",
          "start_time": "2019-01-22T06:59:38.010330Z"
        },
        "id": "rRVu5BhSg9C7",
        "colab_type": "code",
        "colab": {},
        "outputId": "27a8ce29-06f0-45be-e02f-49cff14ad564"
      },
      "source": [
        "nd.norm(x)"
      ],
      "execution_count": null,
      "outputs": [
        {
          "output_type": "execute_result",
          "data": {
            "text/plain": [
              "\n",
              "[3.7416573]\n",
              "<NDArray 1 @cpu(0)>"
            ]
          },
          "metadata": {
            "tags": []
          },
          "execution_count": 19
        }
      ]
    },
    {
      "cell_type": "markdown",
      "metadata": {
        "id": "TPDH4yTDg9C8",
        "colab_type": "text"
      },
      "source": [
        "To calculate the $\\ell_1$-norm we can simply perform the absolute value and then sum over the elements."
      ]
    },
    {
      "cell_type": "code",
      "metadata": {
        "ExecuteTime": {
          "end_time": "2019-01-22T06:59:38.037641Z",
          "start_time": "2019-01-22T06:59:38.026628Z"
        },
        "id": "9ywXIfJ-g9C8",
        "colab_type": "code",
        "colab": {},
        "outputId": "20cd32c3-beb1-4d6d-a9c4-a925ea43ac93"
      },
      "source": [
        "nd.sum(nd.abs(x))"
      ],
      "execution_count": null,
      "outputs": [
        {
          "output_type": "execute_result",
          "data": {
            "text/plain": [
              "\n",
              "[6.]\n",
              "<NDArray 1 @cpu(0)>"
            ]
          },
          "metadata": {
            "tags": []
          },
          "execution_count": 20
        }
      ]
    }
  ]
}